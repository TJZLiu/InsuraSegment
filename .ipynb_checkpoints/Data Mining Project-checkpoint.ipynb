{
 "cells": [
  {
   "cell_type": "code",
   "execution_count": 1,
   "metadata": {},
   "outputs": [],
   "source": [
    "import pandas as pd\n",
    "import random\n",
    "import numpy as np\n",
    "data = pd.read_sas('a2z_insurance.sas7bdat')"
   ]
  },
  {
   "cell_type": "code",
   "execution_count": 2,
   "metadata": {},
   "outputs": [
    {
     "data": {
      "text/html": [
       "<div>\n",
       "<style scoped>\n",
       "    .dataframe tbody tr th:only-of-type {\n",
       "        vertical-align: middle;\n",
       "    }\n",
       "\n",
       "    .dataframe tbody tr th {\n",
       "        vertical-align: top;\n",
       "    }\n",
       "\n",
       "    .dataframe thead th {\n",
       "        text-align: right;\n",
       "    }\n",
       "</style>\n",
       "<table border=\"1\" class=\"dataframe\">\n",
       "  <thead>\n",
       "    <tr style=\"text-align: right;\">\n",
       "      <th></th>\n",
       "      <th>CustID</th>\n",
       "      <th>FirstPolYear</th>\n",
       "      <th>BirthYear</th>\n",
       "      <th>EducDeg</th>\n",
       "      <th>MonthSal</th>\n",
       "      <th>GeoLivArea</th>\n",
       "      <th>Children</th>\n",
       "      <th>CustMonVal</th>\n",
       "      <th>ClaimsRate</th>\n",
       "      <th>PremMotor</th>\n",
       "      <th>PremHousehold</th>\n",
       "      <th>PremHealth</th>\n",
       "      <th>PremLife</th>\n",
       "      <th>PremWork</th>\n",
       "    </tr>\n",
       "  </thead>\n",
       "  <tbody>\n",
       "    <tr>\n",
       "      <th>0</th>\n",
       "      <td>1.0</td>\n",
       "      <td>1985.0</td>\n",
       "      <td>1982.0</td>\n",
       "      <td>b'2 - High School'</td>\n",
       "      <td>2177.0</td>\n",
       "      <td>1.0</td>\n",
       "      <td>1.0</td>\n",
       "      <td>380.97</td>\n",
       "      <td>0.39</td>\n",
       "      <td>375.85</td>\n",
       "      <td>79.45</td>\n",
       "      <td>146.36</td>\n",
       "      <td>47.01</td>\n",
       "      <td>16.89</td>\n",
       "    </tr>\n",
       "    <tr>\n",
       "      <th>1</th>\n",
       "      <td>2.0</td>\n",
       "      <td>1981.0</td>\n",
       "      <td>1995.0</td>\n",
       "      <td>b'2 - High School'</td>\n",
       "      <td>677.0</td>\n",
       "      <td>4.0</td>\n",
       "      <td>1.0</td>\n",
       "      <td>-131.13</td>\n",
       "      <td>1.12</td>\n",
       "      <td>77.46</td>\n",
       "      <td>416.20</td>\n",
       "      <td>116.69</td>\n",
       "      <td>194.48</td>\n",
       "      <td>106.13</td>\n",
       "    </tr>\n",
       "    <tr>\n",
       "      <th>2</th>\n",
       "      <td>3.0</td>\n",
       "      <td>1991.0</td>\n",
       "      <td>1970.0</td>\n",
       "      <td>b'1 - Basic'</td>\n",
       "      <td>2277.0</td>\n",
       "      <td>3.0</td>\n",
       "      <td>0.0</td>\n",
       "      <td>504.67</td>\n",
       "      <td>0.28</td>\n",
       "      <td>206.15</td>\n",
       "      <td>224.50</td>\n",
       "      <td>124.58</td>\n",
       "      <td>86.35</td>\n",
       "      <td>99.02</td>\n",
       "    </tr>\n",
       "    <tr>\n",
       "      <th>3</th>\n",
       "      <td>4.0</td>\n",
       "      <td>1990.0</td>\n",
       "      <td>1981.0</td>\n",
       "      <td>b'3 - BSc/MSc'</td>\n",
       "      <td>1099.0</td>\n",
       "      <td>4.0</td>\n",
       "      <td>1.0</td>\n",
       "      <td>-16.99</td>\n",
       "      <td>0.99</td>\n",
       "      <td>182.48</td>\n",
       "      <td>43.35</td>\n",
       "      <td>311.17</td>\n",
       "      <td>35.34</td>\n",
       "      <td>28.34</td>\n",
       "    </tr>\n",
       "    <tr>\n",
       "      <th>4</th>\n",
       "      <td>5.0</td>\n",
       "      <td>1986.0</td>\n",
       "      <td>1973.0</td>\n",
       "      <td>b'3 - BSc/MSc'</td>\n",
       "      <td>1763.0</td>\n",
       "      <td>4.0</td>\n",
       "      <td>1.0</td>\n",
       "      <td>35.23</td>\n",
       "      <td>0.90</td>\n",
       "      <td>338.62</td>\n",
       "      <td>47.80</td>\n",
       "      <td>182.59</td>\n",
       "      <td>18.78</td>\n",
       "      <td>41.45</td>\n",
       "    </tr>\n",
       "  </tbody>\n",
       "</table>\n",
       "</div>"
      ],
      "text/plain": [
       "   CustID  FirstPolYear  BirthYear             EducDeg  MonthSal  GeoLivArea  \\\n",
       "0     1.0        1985.0     1982.0  b'2 - High School'    2177.0         1.0   \n",
       "1     2.0        1981.0     1995.0  b'2 - High School'     677.0         4.0   \n",
       "2     3.0        1991.0     1970.0        b'1 - Basic'    2277.0         3.0   \n",
       "3     4.0        1990.0     1981.0      b'3 - BSc/MSc'    1099.0         4.0   \n",
       "4     5.0        1986.0     1973.0      b'3 - BSc/MSc'    1763.0         4.0   \n",
       "\n",
       "   Children  CustMonVal  ClaimsRate  PremMotor  PremHousehold  PremHealth  \\\n",
       "0       1.0      380.97        0.39     375.85          79.45      146.36   \n",
       "1       1.0     -131.13        1.12      77.46         416.20      116.69   \n",
       "2       0.0      504.67        0.28     206.15         224.50      124.58   \n",
       "3       1.0      -16.99        0.99     182.48          43.35      311.17   \n",
       "4       1.0       35.23        0.90     338.62          47.80      182.59   \n",
       "\n",
       "   PremLife  PremWork  \n",
       "0     47.01     16.89  \n",
       "1    194.48    106.13  \n",
       "2     86.35     99.02  \n",
       "3     35.34     28.34  \n",
       "4     18.78     41.45  "
      ]
     },
     "execution_count": 2,
     "metadata": {},
     "output_type": "execute_result"
    }
   ],
   "source": [
    "data.head()"
   ]
  },
  {
   "cell_type": "markdown",
   "metadata": {},
   "source": [
    "# Data cleaning"
   ]
  },
  {
   "cell_type": "markdown",
   "metadata": {},
   "source": [
    "set index to be custom ID"
   ]
  },
  {
   "cell_type": "code",
   "execution_count": 3,
   "metadata": {},
   "outputs": [],
   "source": [
    "data.set_index('CustID',inplace=True)"
   ]
  },
  {
   "cell_type": "markdown",
   "metadata": {},
   "source": [
    "drop the useless feature"
   ]
  },
  {
   "cell_type": "code",
   "execution_count": 4,
   "metadata": {},
   "outputs": [],
   "source": [
    "data=data.drop(columns='GeoLivArea')"
   ]
  },
  {
   "cell_type": "markdown",
   "metadata": {},
   "source": [
    "fill the missing value "
   ]
  },
  {
   "cell_type": "markdown",
   "metadata": {},
   "source": [
    "fill the missing value of Premiums part by 0"
   ]
  },
  {
   "cell_type": "code",
   "execution_count": 5,
   "metadata": {},
   "outputs": [],
   "source": [
    "data.iloc[:,-5:]=data.iloc[:,-5:].fillna(0)"
   ]
  },
  {
   "cell_type": "markdown",
   "metadata": {},
   "source": [
    "fill the missing value of Education colunm by most frequent value"
   ]
  },
  {
   "cell_type": "code",
   "execution_count": 6,
   "metadata": {},
   "outputs": [],
   "source": [
    "data['EducDeg'] = data['EducDeg'].fillna(data['EducDeg'].value_counts().index[0])"
   ]
  },
  {
   "cell_type": "markdown",
   "metadata": {},
   "source": [
    "clean the string in the colunm of Education "
   ]
  },
  {
   "cell_type": "code",
   "execution_count": 7,
   "metadata": {},
   "outputs": [
    {
     "data": {
      "text/plain": [
       "b3-BSc/MSc       4816\n",
       "b2-HighSchool    3510\n",
       "b1-Basic         1272\n",
       "b4-PhD            698\n",
       "Name: EducDeg, dtype: int64"
      ]
     },
     "execution_count": 7,
     "metadata": {},
     "output_type": "execute_result"
    }
   ],
   "source": [
    "data['EducDeg'] = data['EducDeg'].astype(str).str.replace(r\"[\\', ]\", '')\n",
    "data['EducDeg'].value_counts()"
   ]
  },
  {
   "cell_type": "markdown",
   "metadata": {},
   "source": [
    "fill the missing value of Monthly salary by average of total"
   ]
  },
  {
   "cell_type": "code",
   "execution_count": 8,
   "metadata": {},
   "outputs": [],
   "source": [
    "data['MonthSal'] = data['MonthSal'].fillna(data['MonthSal'].mean())"
   ]
  },
  {
   "cell_type": "markdown",
   "metadata": {},
   "source": [
    "Fill in the missing values of 'FirstPolYear' and 'BirthYear', \n",
    "from the corresponding positions of 'FirstPolYear' and 'BirthYear'"
   ]
  },
  {
   "cell_type": "code",
   "execution_count": 9,
   "metadata": {},
   "outputs": [],
   "source": [
    "data['FirstPolYear']=data['FirstPolYear'].fillna(data['BirthYear'])\n",
    "data['BirthYear']=data['BirthYear'].fillna(data['FirstPolYear'])"
   ]
  },
  {
   "cell_type": "markdown",
   "metadata": {},
   "source": [
    "Find the custom who missed value in both year colunm"
   ]
  },
  {
   "cell_type": "code",
   "execution_count": 10,
   "metadata": {},
   "outputs": [
    {
     "data": {
      "text/html": [
       "<div>\n",
       "<style scoped>\n",
       "    .dataframe tbody tr th:only-of-type {\n",
       "        vertical-align: middle;\n",
       "    }\n",
       "\n",
       "    .dataframe tbody tr th {\n",
       "        vertical-align: top;\n",
       "    }\n",
       "\n",
       "    .dataframe thead th {\n",
       "        text-align: right;\n",
       "    }\n",
       "</style>\n",
       "<table border=\"1\" class=\"dataframe\">\n",
       "  <thead>\n",
       "    <tr style=\"text-align: right;\">\n",
       "      <th></th>\n",
       "      <th>FirstPolYear</th>\n",
       "      <th>BirthYear</th>\n",
       "      <th>EducDeg</th>\n",
       "      <th>MonthSal</th>\n",
       "      <th>Children</th>\n",
       "      <th>CustMonVal</th>\n",
       "      <th>ClaimsRate</th>\n",
       "      <th>PremMotor</th>\n",
       "      <th>PremHousehold</th>\n",
       "      <th>PremHealth</th>\n",
       "      <th>PremLife</th>\n",
       "      <th>PremWork</th>\n",
       "    </tr>\n",
       "    <tr>\n",
       "      <th>CustID</th>\n",
       "      <th></th>\n",
       "      <th></th>\n",
       "      <th></th>\n",
       "      <th></th>\n",
       "      <th></th>\n",
       "      <th></th>\n",
       "      <th></th>\n",
       "      <th></th>\n",
       "      <th></th>\n",
       "      <th></th>\n",
       "      <th></th>\n",
       "      <th></th>\n",
       "    </tr>\n",
       "  </thead>\n",
       "  <tbody>\n",
       "    <tr>\n",
       "      <th>756.0</th>\n",
       "      <td>NaN</td>\n",
       "      <td>NaN</td>\n",
       "      <td>b4-PhD</td>\n",
       "      <td>2913.0</td>\n",
       "      <td>0.0</td>\n",
       "      <td>430.20</td>\n",
       "      <td>0.28</td>\n",
       "      <td>465.20</td>\n",
       "      <td>59.45</td>\n",
       "      <td>94.13</td>\n",
       "      <td>4.89</td>\n",
       "      <td>10.00</td>\n",
       "    </tr>\n",
       "    <tr>\n",
       "      <th>3761.0</th>\n",
       "      <td>NaN</td>\n",
       "      <td>NaN</td>\n",
       "      <td>b2-HighSchool</td>\n",
       "      <td>2067.0</td>\n",
       "      <td>1.0</td>\n",
       "      <td>-47.67</td>\n",
       "      <td>1.04</td>\n",
       "      <td>495.87</td>\n",
       "      <td>58.90</td>\n",
       "      <td>61.90</td>\n",
       "      <td>22.67</td>\n",
       "      <td>3.78</td>\n",
       "    </tr>\n",
       "    <tr>\n",
       "      <th>5191.0</th>\n",
       "      <td>NaN</td>\n",
       "      <td>NaN</td>\n",
       "      <td>b3-BSc/MSc</td>\n",
       "      <td>2772.0</td>\n",
       "      <td>0.0</td>\n",
       "      <td>-25.00</td>\n",
       "      <td>1.00</td>\n",
       "      <td>326.84</td>\n",
       "      <td>216.15</td>\n",
       "      <td>164.03</td>\n",
       "      <td>45.23</td>\n",
       "      <td>13.67</td>\n",
       "    </tr>\n",
       "  </tbody>\n",
       "</table>\n",
       "</div>"
      ],
      "text/plain": [
       "        FirstPolYear  BirthYear        EducDeg  MonthSal  Children  \\\n",
       "CustID                                                               \n",
       "756.0            NaN        NaN         b4-PhD    2913.0       0.0   \n",
       "3761.0           NaN        NaN  b2-HighSchool    2067.0       1.0   \n",
       "5191.0           NaN        NaN     b3-BSc/MSc    2772.0       0.0   \n",
       "\n",
       "        CustMonVal  ClaimsRate  PremMotor  PremHousehold  PremHealth  \\\n",
       "CustID                                                                 \n",
       "756.0       430.20        0.28     465.20          59.45       94.13   \n",
       "3761.0      -47.67        1.04     495.87          58.90       61.90   \n",
       "5191.0      -25.00        1.00     326.84         216.15      164.03   \n",
       "\n",
       "        PremLife  PremWork  \n",
       "CustID                      \n",
       "756.0       4.89     10.00  \n",
       "3761.0     22.67      3.78  \n",
       "5191.0     45.23     13.67  "
      ]
     },
     "execution_count": 10,
     "metadata": {},
     "output_type": "execute_result"
    }
   ],
   "source": [
    "data.loc[data['BirthYear'].isnull()]"
   ]
  },
  {
   "cell_type": "markdown",
   "metadata": {},
   "source": [
    "for ID756 find the similar data and fill the missing value"
   ]
  },
  {
   "cell_type": "code",
   "execution_count": 11,
   "metadata": {},
   "outputs": [
    {
     "data": {
      "text/html": [
       "<div>\n",
       "<style scoped>\n",
       "    .dataframe tbody tr th:only-of-type {\n",
       "        vertical-align: middle;\n",
       "    }\n",
       "\n",
       "    .dataframe tbody tr th {\n",
       "        vertical-align: top;\n",
       "    }\n",
       "\n",
       "    .dataframe thead th {\n",
       "        text-align: right;\n",
       "    }\n",
       "</style>\n",
       "<table border=\"1\" class=\"dataframe\">\n",
       "  <thead>\n",
       "    <tr style=\"text-align: right;\">\n",
       "      <th></th>\n",
       "      <th>FirstPolYear</th>\n",
       "      <th>BirthYear</th>\n",
       "      <th>EducDeg</th>\n",
       "      <th>MonthSal</th>\n",
       "      <th>Children</th>\n",
       "      <th>CustMonVal</th>\n",
       "      <th>ClaimsRate</th>\n",
       "      <th>PremMotor</th>\n",
       "      <th>PremHousehold</th>\n",
       "      <th>PremHealth</th>\n",
       "      <th>PremLife</th>\n",
       "      <th>PremWork</th>\n",
       "    </tr>\n",
       "    <tr>\n",
       "      <th>CustID</th>\n",
       "      <th></th>\n",
       "      <th></th>\n",
       "      <th></th>\n",
       "      <th></th>\n",
       "      <th></th>\n",
       "      <th></th>\n",
       "      <th></th>\n",
       "      <th></th>\n",
       "      <th></th>\n",
       "      <th></th>\n",
       "      <th></th>\n",
       "      <th></th>\n",
       "    </tr>\n",
       "  </thead>\n",
       "  <tbody>\n",
       "    <tr>\n",
       "      <th>756.0</th>\n",
       "      <td>NaN</td>\n",
       "      <td>NaN</td>\n",
       "      <td>b4-PhD</td>\n",
       "      <td>2913.0</td>\n",
       "      <td>0.0</td>\n",
       "      <td>430.20</td>\n",
       "      <td>0.28</td>\n",
       "      <td>465.20</td>\n",
       "      <td>59.45</td>\n",
       "      <td>94.13</td>\n",
       "      <td>4.89</td>\n",
       "      <td>10.00</td>\n",
       "    </tr>\n",
       "    <tr>\n",
       "      <th>2333.0</th>\n",
       "      <td>1997.0</td>\n",
       "      <td>1959.0</td>\n",
       "      <td>b4-PhD</td>\n",
       "      <td>2878.0</td>\n",
       "      <td>0.0</td>\n",
       "      <td>409.64</td>\n",
       "      <td>0.36</td>\n",
       "      <td>417.19</td>\n",
       "      <td>99.45</td>\n",
       "      <td>135.47</td>\n",
       "      <td>23.45</td>\n",
       "      <td>6.00</td>\n",
       "    </tr>\n",
       "    <tr>\n",
       "      <th>4589.0</th>\n",
       "      <td>1985.0</td>\n",
       "      <td>1948.0</td>\n",
       "      <td>b4-PhD</td>\n",
       "      <td>2949.0</td>\n",
       "      <td>0.0</td>\n",
       "      <td>375.64</td>\n",
       "      <td>0.33</td>\n",
       "      <td>388.74</td>\n",
       "      <td>23.90</td>\n",
       "      <td>172.70</td>\n",
       "      <td>1.89</td>\n",
       "      <td>13.89</td>\n",
       "    </tr>\n",
       "  </tbody>\n",
       "</table>\n",
       "</div>"
      ],
      "text/plain": [
       "        FirstPolYear  BirthYear EducDeg  MonthSal  Children  CustMonVal  \\\n",
       "CustID                                                                    \n",
       "756.0            NaN        NaN  b4-PhD    2913.0       0.0      430.20   \n",
       "2333.0        1997.0     1959.0  b4-PhD    2878.0       0.0      409.64   \n",
       "4589.0        1985.0     1948.0  b4-PhD    2949.0       0.0      375.64   \n",
       "\n",
       "        ClaimsRate  PremMotor  PremHousehold  PremHealth  PremLife  PremWork  \n",
       "CustID                                                                        \n",
       "756.0         0.28     465.20          59.45       94.13      4.89     10.00  \n",
       "2333.0        0.36     417.19          99.45      135.47     23.45      6.00  \n",
       "4589.0        0.33     388.74          23.90      172.70      1.89     13.89  "
      ]
     },
     "execution_count": 11,
     "metadata": {},
     "output_type": "execute_result"
    }
   ],
   "source": [
    "data.loc[(data['EducDeg']== 'b4-PhD') & (data['MonthSal']>=2863)\n",
    "         &(data['MonthSal']<=2963)& (data['Children']==0)\n",
    "        &(data['CustMonVal']>=370.2)]"
   ]
  },
  {
   "cell_type": "code",
   "execution_count": 12,
   "metadata": {},
   "outputs": [],
   "source": [
    "data.loc[756,'FirstPolYear']=round((data.loc[2333,'FirstPolYear']+data.loc[4589,'FirstPolYear'])/2)\n",
    "data.loc[756,'BirthYear']=round((data.loc[2333,'BirthYear']+data.loc[4589,'BirthYear'])/2)"
   ]
  },
  {
   "cell_type": "markdown",
   "metadata": {},
   "source": [
    "for ID3761 find the similar data and fill the missing value"
   ]
  },
  {
   "cell_type": "code",
   "execution_count": 13,
   "metadata": {},
   "outputs": [],
   "source": [
    "ID3761_S=data.loc[(data['EducDeg']== 'b2-HighSchool') & (data['MonthSal']>=2017)\n",
    "         &(data['MonthSal']<=2117)& (data['Children']==1)\n",
    "        &(data['CustMonVal']<0)]"
   ]
  },
  {
   "cell_type": "code",
   "execution_count": 14,
   "metadata": {},
   "outputs": [],
   "source": [
    "data.loc[3761,'FirstPolYear']=round(ID3761_S['FirstPolYear'].mean())\n",
    "data.loc[3761,'BirthYear']=round(ID3761_S['BirthYear'].mean())"
   ]
  },
  {
   "cell_type": "markdown",
   "metadata": {},
   "source": [
    "for ID5191 find the similar data and fill the missing value"
   ]
  },
  {
   "cell_type": "code",
   "execution_count": 15,
   "metadata": {},
   "outputs": [],
   "source": [
    "ID5191_S=data.loc[(data['EducDeg']== 'b3-BSc/MSc') & (data['MonthSal']>=2722)\n",
    "         &(data['MonthSal']<=2822)& (data['Children']==0)\n",
    "        &(data['CustMonVal']<0)]"
   ]
  },
  {
   "cell_type": "code",
   "execution_count": 16,
   "metadata": {},
   "outputs": [],
   "source": [
    "data.loc[5191,'FirstPolYear']=round(ID5191_S['FirstPolYear'].mean())\n",
    "data.loc[5191,'BirthYear']=round(ID5191_S['BirthYear'].mean())"
   ]
  },
  {
   "cell_type": "markdown",
   "metadata": {},
   "source": [
    "fill the missing value in the 'Children' by randomly choose the value from the column itself"
   ]
  },
  {
   "cell_type": "code",
   "execution_count": 17,
   "metadata": {},
   "outputs": [],
   "source": [
    "data['Children'].fillna(lambda x: random.choice(data[data['Children'] != np.nan][\"column\"]), inplace =True)"
   ]
  },
  {
   "cell_type": "code",
   "execution_count": 19,
   "metadata": {},
   "outputs": [
    {
     "data": {
      "text/html": [
       "<div>\n",
       "<style scoped>\n",
       "    .dataframe tbody tr th:only-of-type {\n",
       "        vertical-align: middle;\n",
       "    }\n",
       "\n",
       "    .dataframe tbody tr th {\n",
       "        vertical-align: top;\n",
       "    }\n",
       "\n",
       "    .dataframe thead th {\n",
       "        text-align: right;\n",
       "    }\n",
       "</style>\n",
       "<table border=\"1\" class=\"dataframe\">\n",
       "  <thead>\n",
       "    <tr style=\"text-align: right;\">\n",
       "      <th></th>\n",
       "      <th>FirstPolYear</th>\n",
       "      <th>BirthYear</th>\n",
       "      <th>MonthSal</th>\n",
       "      <th>CustMonVal</th>\n",
       "      <th>ClaimsRate</th>\n",
       "      <th>PremMotor</th>\n",
       "      <th>PremHousehold</th>\n",
       "      <th>PremHealth</th>\n",
       "      <th>PremLife</th>\n",
       "      <th>PremWork</th>\n",
       "    </tr>\n",
       "  </thead>\n",
       "  <tbody>\n",
       "    <tr>\n",
       "      <th>FirstPolYear</th>\n",
       "      <td>1.000000</td>\n",
       "      <td>-0.010192</td>\n",
       "      <td>0.006720</td>\n",
       "      <td>0.000820</td>\n",
       "      <td>-0.001208</td>\n",
       "      <td>0.002332</td>\n",
       "      <td>-0.005571</td>\n",
       "      <td>0.000598</td>\n",
       "      <td>-0.003796</td>\n",
       "      <td>-0.004191</td>\n",
       "    </tr>\n",
       "    <tr>\n",
       "      <th>BirthYear</th>\n",
       "      <td>-0.010192</td>\n",
       "      <td>1.000000</td>\n",
       "      <td>-0.694474</td>\n",
       "      <td>0.003526</td>\n",
       "      <td>0.004435</td>\n",
       "      <td>-0.156633</td>\n",
       "      <td>0.150414</td>\n",
       "      <td>0.002734</td>\n",
       "      <td>0.233150</td>\n",
       "      <td>0.206956</td>\n",
       "    </tr>\n",
       "    <tr>\n",
       "      <th>MonthSal</th>\n",
       "      <td>0.006720</td>\n",
       "      <td>-0.694474</td>\n",
       "      <td>1.000000</td>\n",
       "      <td>-0.003256</td>\n",
       "      <td>-0.003510</td>\n",
       "      <td>0.135350</td>\n",
       "      <td>-0.133172</td>\n",
       "      <td>-0.001635</td>\n",
       "      <td>-0.195549</td>\n",
       "      <td>-0.173602</td>\n",
       "    </tr>\n",
       "    <tr>\n",
       "      <th>CustMonVal</th>\n",
       "      <td>0.000820</td>\n",
       "      <td>0.003526</td>\n",
       "      <td>-0.003256</td>\n",
       "      <td>1.000000</td>\n",
       "      <td>-0.992622</td>\n",
       "      <td>0.033959</td>\n",
       "      <td>0.032664</td>\n",
       "      <td>0.000987</td>\n",
       "      <td>0.010447</td>\n",
       "      <td>0.020218</td>\n",
       "    </tr>\n",
       "    <tr>\n",
       "      <th>ClaimsRate</th>\n",
       "      <td>-0.001208</td>\n",
       "      <td>0.004435</td>\n",
       "      <td>-0.003510</td>\n",
       "      <td>-0.992622</td>\n",
       "      <td>1.000000</td>\n",
       "      <td>-0.006312</td>\n",
       "      <td>-0.007958</td>\n",
       "      <td>0.006294</td>\n",
       "      <td>0.001516</td>\n",
       "      <td>-0.001034</td>\n",
       "    </tr>\n",
       "    <tr>\n",
       "      <th>PremMotor</th>\n",
       "      <td>0.002332</td>\n",
       "      <td>-0.156633</td>\n",
       "      <td>0.135350</td>\n",
       "      <td>0.033959</td>\n",
       "      <td>-0.006312</td>\n",
       "      <td>1.000000</td>\n",
       "      <td>-0.274046</td>\n",
       "      <td>-0.075930</td>\n",
       "      <td>-0.407115</td>\n",
       "      <td>-0.347157</td>\n",
       "    </tr>\n",
       "    <tr>\n",
       "      <th>PremHousehold</th>\n",
       "      <td>-0.005571</td>\n",
       "      <td>0.150414</td>\n",
       "      <td>-0.133172</td>\n",
       "      <td>0.032664</td>\n",
       "      <td>-0.007958</td>\n",
       "      <td>-0.274046</td>\n",
       "      <td>1.000000</td>\n",
       "      <td>0.025393</td>\n",
       "      <td>0.263880</td>\n",
       "      <td>0.240620</td>\n",
       "    </tr>\n",
       "    <tr>\n",
       "      <th>PremHealth</th>\n",
       "      <td>0.000598</td>\n",
       "      <td>0.002734</td>\n",
       "      <td>-0.001635</td>\n",
       "      <td>0.000987</td>\n",
       "      <td>0.006294</td>\n",
       "      <td>-0.075930</td>\n",
       "      <td>0.025393</td>\n",
       "      <td>1.000000</td>\n",
       "      <td>0.028402</td>\n",
       "      <td>0.081013</td>\n",
       "    </tr>\n",
       "    <tr>\n",
       "      <th>PremLife</th>\n",
       "      <td>-0.003796</td>\n",
       "      <td>0.233150</td>\n",
       "      <td>-0.195549</td>\n",
       "      <td>0.010447</td>\n",
       "      <td>0.001516</td>\n",
       "      <td>-0.407115</td>\n",
       "      <td>0.263880</td>\n",
       "      <td>0.028402</td>\n",
       "      <td>1.000000</td>\n",
       "      <td>0.346038</td>\n",
       "    </tr>\n",
       "    <tr>\n",
       "      <th>PremWork</th>\n",
       "      <td>-0.004191</td>\n",
       "      <td>0.206956</td>\n",
       "      <td>-0.173602</td>\n",
       "      <td>0.020218</td>\n",
       "      <td>-0.001034</td>\n",
       "      <td>-0.347157</td>\n",
       "      <td>0.240620</td>\n",
       "      <td>0.081013</td>\n",
       "      <td>0.346038</td>\n",
       "      <td>1.000000</td>\n",
       "    </tr>\n",
       "  </tbody>\n",
       "</table>\n",
       "</div>"
      ],
      "text/plain": [
       "               FirstPolYear  BirthYear  MonthSal  CustMonVal  ClaimsRate  \\\n",
       "FirstPolYear       1.000000  -0.010192  0.006720    0.000820   -0.001208   \n",
       "BirthYear         -0.010192   1.000000 -0.694474    0.003526    0.004435   \n",
       "MonthSal           0.006720  -0.694474  1.000000   -0.003256   -0.003510   \n",
       "CustMonVal         0.000820   0.003526 -0.003256    1.000000   -0.992622   \n",
       "ClaimsRate        -0.001208   0.004435 -0.003510   -0.992622    1.000000   \n",
       "PremMotor          0.002332  -0.156633  0.135350    0.033959   -0.006312   \n",
       "PremHousehold     -0.005571   0.150414 -0.133172    0.032664   -0.007958   \n",
       "PremHealth         0.000598   0.002734 -0.001635    0.000987    0.006294   \n",
       "PremLife          -0.003796   0.233150 -0.195549    0.010447    0.001516   \n",
       "PremWork          -0.004191   0.206956 -0.173602    0.020218   -0.001034   \n",
       "\n",
       "               PremMotor  PremHousehold  PremHealth  PremLife  PremWork  \n",
       "FirstPolYear    0.002332      -0.005571    0.000598 -0.003796 -0.004191  \n",
       "BirthYear      -0.156633       0.150414    0.002734  0.233150  0.206956  \n",
       "MonthSal        0.135350      -0.133172   -0.001635 -0.195549 -0.173602  \n",
       "CustMonVal      0.033959       0.032664    0.000987  0.010447  0.020218  \n",
       "ClaimsRate     -0.006312      -0.007958    0.006294  0.001516 -0.001034  \n",
       "PremMotor       1.000000      -0.274046   -0.075930 -0.407115 -0.347157  \n",
       "PremHousehold  -0.274046       1.000000    0.025393  0.263880  0.240620  \n",
       "PremHealth     -0.075930       0.025393    1.000000  0.028402  0.081013  \n",
       "PremLife       -0.407115       0.263880    0.028402  1.000000  0.346038  \n",
       "PremWork       -0.347157       0.240620    0.081013  0.346038  1.000000  "
      ]
     },
     "execution_count": 19,
     "metadata": {},
     "output_type": "execute_result"
    }
   ],
   "source": [
    "data.corr()"
   ]
  },
  {
   "cell_type": "code",
   "execution_count": null,
   "metadata": {},
   "outputs": [],
   "source": []
  }
 ],
 "metadata": {
  "kernelspec": {
   "display_name": "Python 3",
   "language": "python",
   "name": "python3"
  },
  "language_info": {
   "codemirror_mode": {
    "name": "ipython",
    "version": 3
   },
   "file_extension": ".py",
   "mimetype": "text/x-python",
   "name": "python",
   "nbconvert_exporter": "python",
   "pygments_lexer": "ipython3",
   "version": "3.8.5"
  }
 },
 "nbformat": 4,
 "nbformat_minor": 4
}
